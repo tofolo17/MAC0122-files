{
  "nbformat": 4,
  "nbformat_minor": 0,
  "metadata": {
    "colab": {
      "provenance": [],
      "collapsed_sections": []
    },
    "kernelspec": {
      "name": "python3",
      "display_name": "Python 3"
    },
    "language_info": {
      "name": "python"
    }
  },
  "cells": [
    {
      "cell_type": "code",
      "execution_count": null,
      "metadata": {
        "id": "c87Bt1uZcoOr"
      },
      "outputs": [],
      "source": [
        "def borbulhe(v, n):\n",
        "  trocas = 0\n",
        "  for j in range(1, n):\n",
        "    if v[j] < v[j - 1]:\n",
        "      v[j], v[j - 1] = v[j - 1], v[j]\n",
        "      trocas += 1\n",
        "  return trocas"
      ]
    },
    {
      "cell_type": "code",
      "source": [
        "def bubble_sort(v):\n",
        "  n = len(v)\n",
        "  total_trocas = 0\n",
        "  for i in range(n, 1, -1):\n",
        "    total_trocas += borbulhe(v, i)\n",
        "  return total_trocas"
      ],
      "metadata": {
        "id": "Tbs9FoySdXpk"
      },
      "execution_count": null,
      "outputs": []
    },
    {
      "cell_type": "code",
      "source": [
        "def main():\n",
        "  v = [7, 4, 11, 5, 3]\n",
        "  trocas = bubble_sort(v)\n",
        "\n",
        "  print(v, trocas)\n",
        "\n",
        "\n",
        "main()"
      ],
      "metadata": {
        "colab": {
          "base_uri": "https://localhost:8080/"
        },
        "id": "2jt2SaG1fUmX",
        "outputId": "2c2afe5b-f00c-4d00-9609-18721dad269b"
      },
      "execution_count": null,
      "outputs": [
        {
          "output_type": "stream",
          "name": "stdout",
          "text": [
            "[3, 4, 5, 7, 11] 7\n"
          ]
        }
      ]
    },
    {
      "cell_type": "markdown",
      "source": [
        "***"
      ],
      "metadata": {
        "id": "0zpeXrGulqzW"
      }
    },
    {
      "cell_type": "code",
      "source": [
        "def borbulheX(v, n):\n",
        "  trocas = 0\n",
        "  u = 0\n",
        "  for j in range(1, n):\n",
        "    if v[j] < v[j - 1]:\n",
        "      u = j\n",
        "      v[j], v[j - 1] = v[j - 1], v[j]\n",
        "      trocas += 1\n",
        "  return trocas, u"
      ],
      "metadata": {
        "id": "jqtTHtJbglH_"
      },
      "execution_count": null,
      "outputs": []
    },
    {
      "cell_type": "code",
      "source": [
        "def main():\n",
        "  v = [7, 4, 11, 5, 3]\n",
        "  t, u = borbulheX(v, 5)\n",
        "  print(v, v[u:], t, u)\n",
        "\n",
        "  t, u = borbulheX(v, 4)\n",
        "  print(v, v[u:], t, u)\n",
        "\n",
        "  t, u = borbulheX(v, 3)\n",
        "  print(v, v[u:], t, u)\n",
        "\n",
        "main()"
      ],
      "metadata": {
        "colab": {
          "base_uri": "https://localhost:8080/"
        },
        "id": "JSxpVaMHhqPD",
        "outputId": "0b8fef5b-f9d9-46ec-933b-a6a541d79361"
      },
      "execution_count": null,
      "outputs": [
        {
          "output_type": "stream",
          "name": "stdout",
          "text": [
            "[4, 7, 5, 3, 11] [11] 3 4\n",
            "[4, 5, 3, 7, 11] [7, 11] 2 3\n",
            "[4, 3, 5, 7, 11] [5, 7, 11] 1 2\n"
          ]
        }
      ]
    },
    {
      "cell_type": "code",
      "source": [
        "def bubble_sortX(v):\n",
        "  total_trocas, total_comparações = 0, 0\n",
        "  n = len(v)\n",
        "  u = n\n",
        "\n",
        "  for i in range(n, 1, -1):\n",
        "    # Gambiarra!\n",
        "    if u == 0:\n",
        "      break\n",
        "    trocas, u = borbulheX(v, u)\n",
        "    print(v, trocas, u)\n",
        "    total_trocas += trocas\n",
        "    total_comparações += u\n",
        "\n",
        "  return total_trocas, total_comparações\n",
        "\n",
        "\n",
        "def main():\n",
        "  v = [7, 4, 11, 5, 3]\n",
        "  trocas, comparações = bubble_sortX(v)\n",
        "  print(v, trocas, comparações, '\\n')\n",
        "\n",
        "  v = [5, 3, 11, 4, 7]\n",
        "  trocas, comparações = bubble_sortX(v)\n",
        "  print('Resultado:', v, trocas, comparações)\n",
        "\n",
        "\n",
        "main()"
      ],
      "metadata": {
        "colab": {
          "base_uri": "https://localhost:8080/"
        },
        "id": "xxerguWZiZlS",
        "outputId": "b55d1049-4a7a-4146-a74f-cd4f965e0b12"
      },
      "execution_count": null,
      "outputs": [
        {
          "output_type": "stream",
          "name": "stdout",
          "text": [
            "[4, 7, 5, 3, 11] 3 4\n",
            "[4, 5, 3, 7, 11] 2 3\n",
            "[4, 3, 5, 7, 11] 1 2\n",
            "[3, 4, 5, 7, 11] 1 1\n",
            "[3, 4, 5, 7, 11] 7 10 \n",
            "\n",
            "[3, 5, 4, 7, 11] 3 4\n",
            "[3, 4, 5, 7, 11] 1 2\n",
            "[3, 4, 5, 7, 11] 0 0\n",
            "Resultado: [3, 4, 5, 7, 11] 4 6\n"
          ]
        }
      ]
    },
    {
      "cell_type": "markdown",
      "source": [
        "\"borbulhe de luxe\" pra depois!\n",
        "*** "
      ],
      "metadata": {
        "id": "SO9Ge9jDotYU"
      }
    },
    {
      "cell_type": "code",
      "source": [
        "def borbulhe_de_luxe(v, e, d, passo):\n",
        "  # Tá mal codado!\n",
        "  trocas, u = 0, 0\n",
        "\n",
        "  if passo == 1:\n",
        "    r = range(e + 1, d, 1)\n",
        "  else:\n",
        "    r = range(d - 1, e - 1, -1)\n",
        "\n",
        "  for j in r:\n",
        "    if v[j] < v[j - 1]:\n",
        "      u = j - 1 if passo == -1 else j\n",
        "      v[j], v[j - 1] = v[j - 1], v[j]\n",
        "      trocas += 1\n",
        "\n",
        "  return trocas, u\n",
        "\n",
        "\n",
        "def main():\n",
        "  \"\"\"\n",
        "  a = [7, 4, 11, 5, 3]\n",
        "  trocas = borbulhe_de_luxe(a, 0, 3, 1)\n",
        "  print(a, trocas)\n",
        "\n",
        "  a = [7, 4, 11, 5, 3]\n",
        "  trocas = borbulhe_de_luxe(a, 0, 4, 1)\n",
        "  print(a, trocas)\n",
        "\n",
        "  a = [7, 4, 11, 5, 3]\n",
        "  trocas = borbulhe_de_luxe(a, 0, 5, 1)\n",
        "  print(a, trocas)\n",
        "\n",
        "  a = [7, 4, 11, 5, 3]\n",
        "  trocas = borbulhe_de_luxe(a, 0, 3, -1)\n",
        "  print(a, trocas)\n",
        "  \"\"\"\n",
        "\n",
        "  a = [7, 4, 11, 5, 3]\n",
        "  trocas, u = borbulhe_de_luxe(a, 0, 5, -1)\n",
        "  print(a, trocas, u)\n",
        "\n",
        "\n",
        "main()"
      ],
      "metadata": {
        "colab": {
          "base_uri": "https://localhost:8080/"
        },
        "id": "kfja2bZWolTg",
        "outputId": "f9eec8cc-50b5-4248-8d54-b6bf1dc1e244"
      },
      "execution_count": null,
      "outputs": [
        {
          "output_type": "stream",
          "name": "stdout",
          "text": [
            "[4, 7, 5, 3, 11] 3 4\n"
          ]
        }
      ]
    },
    {
      "cell_type": "code",
      "source": [
        "def main():\n",
        "  v = [7, 4, 11, 5, 3]\n",
        "  t, u = borbulhe_de_luxe(v, 0, len(v), 1)\n",
        "  # print(v, t, u)\n",
        "\n",
        "  v = [7, 4, 11, 5, 3]\n",
        "  shaker_sort(v)\n",
        "  print(v)\n",
        "\n",
        "\n",
        "def shaker_sort(v, e=0, d=None, passo=1):\n",
        "  if d is None:\n",
        "    d = len(v)\n",
        "  print(v, e, d, passo)\n",
        "  \n",
        "  # Caso base\n",
        "  if d == 0:\n",
        "    return None\n",
        "\n",
        "  t, u = borbulhe_de_luxe(v, e, d, passo)\n",
        "\n",
        "  if passo == 1:\n",
        "    d = u\n",
        "  else:\n",
        "    e = u + 1\n",
        "\n",
        "  return shaker_sort(v, e, d, -passo)\n",
        "\n",
        "\n",
        "main()"
      ],
      "metadata": {
        "colab": {
          "base_uri": "https://localhost:8080/"
        },
        "id": "-t8K2HtXtMND",
        "outputId": "29a2a660-f9f9-4d9e-d152-ac5342679bf2"
      },
      "execution_count": null,
      "outputs": [
        {
          "output_type": "stream",
          "name": "stdout",
          "text": [
            "[7, 4, 11, 5, 3] 0 5 1\n",
            "[4, 7, 5, 3, 11] 0 4 -1\n",
            "[3, 4, 7, 5, 11] 1 4 1\n",
            "[3, 4, 5, 7, 11] 1 3 -1\n",
            "[3, 4, 5, 7, 11] 1 3 1\n",
            "[3, 4, 5, 7, 11] 1 0 -1\n",
            "[3, 4, 5, 7, 11]\n"
          ]
        }
      ]
    }
  ]
}