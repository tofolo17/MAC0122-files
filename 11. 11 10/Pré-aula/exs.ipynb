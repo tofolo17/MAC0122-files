{
 "cells": [
  {
   "cell_type": "markdown",
   "id": "38f1bb80",
   "metadata": {},
   "source": [
    "## 1)\n",
    "\n",
    "Um processo recursivo exige caminho inverso; uma volta ao ponto de partida.\n",
    "\n",
    "## 2)\n",
    "\n",
    "A afirmação \"Para entender recursão é necessário entender recursão?\" não possui um caso base.\n",
    "\n",
    "## 3)\n",
    "\n",
    "Ela executa infinitamente."
   ]
  },
  {
   "cell_type": "code",
   "execution_count": 1,
   "id": "279c2f27",
   "metadata": {},
   "outputs": [],
   "source": [
    "def fatorialR(n):\n",
    "    if n == 0: return 1\n",
    "    return n * fatorialR(n-1)"
   ]
  },
  {
   "cell_type": "code",
   "execution_count": 2,
   "id": "d7ccc1e5",
   "metadata": {},
   "outputs": [],
   "source": [
    "# fatorialR(-2)"
   ]
  },
  {
   "cell_type": "markdown",
   "id": "f657a747",
   "metadata": {},
   "source": [
    "## 4)"
   ]
  },
  {
   "cell_type": "code",
   "execution_count": 3,
   "id": "dfe2ac85",
   "metadata": {
    "scrolled": true
   },
   "outputs": [
    {
     "name": "stdout",
     "output_type": "stream",
     "text": [
      "fatorialR(7)\n",
      "  fatorialR(6)\n",
      "    fatorialR(5)\n",
      "      fatorialR(4)\n",
      "        fatorialR(3)\n",
      "          fatorialR(2)\n",
      "            fatorialR(1)\n",
      "              fatorialR(0)\n",
      "            factorialR(1) = 1\n",
      "          factorialR(2) = 2\n",
      "        factorialR(3) = 6\n",
      "      factorialR(4) = 24\n",
      "    factorialR(5) = 120\n",
      "  factorialR(6) = 720\n",
      "factorialR(7) = 5040\n"
     ]
    },
    {
     "data": {
      "text/plain": [
       "5040"
      ]
     },
     "execution_count": 3,
     "metadata": {},
     "output_type": "execute_result"
    }
   ],
   "source": [
    "def fatorialR(n, rastro=False, tab=''):\n",
    "    if rastro:\n",
    "        print(f'{tab}fatorialR({n})')\n",
    "        tab = tab + \"  \"\n",
    "        \n",
    "    if n == 0: return 1\n",
    "    r =  n * fatorialR(n-1, rastro, tab)\n",
    "    \n",
    "    if rastro:\n",
    "        tab = tab[:-2]\n",
    "        print(f'{tab}factorialR({n}) = {r}')\n",
    "    \n",
    "    return r\n",
    "\n",
    "\n",
    "fatorialR(7, True)"
   ]
  },
  {
   "cell_type": "markdown",
   "id": "c628a2a3",
   "metadata": {},
   "source": [
    "## 5)"
   ]
  },
  {
   "cell_type": "code",
   "execution_count": 4,
   "id": "4d7a2c2d",
   "metadata": {},
   "outputs": [],
   "source": [
    "def collatz(n):\n",
    "    print(f\"{n} \", end=\"\")\n",
    "    if n == 1:\n",
    "        return None\n",
    "    if n % 2 == 0:\n",
    "        collatz(n//2)\n",
    "    else:\n",
    "        collatz(3*n+1)"
   ]
  },
  {
   "cell_type": "code",
   "execution_count": 5,
   "id": "ca838504",
   "metadata": {
    "scrolled": true
   },
   "outputs": [
    {
     "name": "stdout",
     "output_type": "stream",
     "text": [
      "7 22 11 34 17 52 26 13 40 20 10 5 16 8 4 2 1 "
     ]
    }
   ],
   "source": [
    "collatz(7)"
   ]
  },
  {
   "cell_type": "code",
   "execution_count": 6,
   "id": "177eb6f9",
   "metadata": {},
   "outputs": [
    {
     "name": "stdout",
     "output_type": "stream",
     "text": [
      "7 22 11 34 17 52 26 13 40 20 10 5 16 8 4 2 1 "
     ]
    },
    {
     "data": {
      "text/plain": [
       "16"
      ]
     },
     "execution_count": 6,
     "metadata": {},
     "output_type": "execute_result"
    }
   ],
   "source": [
    "def collatz(n, cont=-1):\n",
    "    cont += 1\n",
    "    print(f\"{n} \", end=\"\")\n",
    "    if n == 1:\n",
    "        return cont\n",
    "    if n % 2 == 0:\n",
    "        return collatz(n//2, cont)\n",
    "    else:\n",
    "        return collatz(3*n+1, cont)\n",
    "\n",
    "        \n",
    "def conte_collatz(n):\n",
    "    return collatz(n)\n",
    "\n",
    "\n",
    "conte_collatz(7)    "
   ]
  },
  {
   "cell_type": "markdown",
   "id": "f09ce35d",
   "metadata": {},
   "source": [
    "## 8)"
   ]
  },
  {
   "cell_type": "code",
   "execution_count": 7,
   "id": "26e332bb",
   "metadata": {},
   "outputs": [
    {
     "data": {
      "text/plain": [
       "3.1780538303479453"
      ]
     },
     "execution_count": 7,
     "metadata": {},
     "output_type": "execute_result"
    }
   ],
   "source": [
    "from numpy import log\n",
    "\n",
    "def ln_fact(n):\n",
    "    # n != 0\n",
    "    if n == 1:\n",
    "        return 0\n",
    "    else:\n",
    "        r = 0\n",
    "        return log(n) + ln_fact(n-1)\n",
    "\n",
    "    \n",
    "ln_fact(4)        "
   ]
  },
  {
   "cell_type": "markdown",
   "id": "90038e52",
   "metadata": {},
   "source": [
    "## 9)"
   ]
  },
  {
   "cell_type": "code",
   "execution_count": 8,
   "id": "1f069489",
   "metadata": {},
   "outputs": [
    {
     "data": {
      "text/plain": [
       "'0101'"
      ]
     },
     "execution_count": 8,
     "metadata": {},
     "output_type": "execute_result"
    }
   ],
   "source": [
    "def bin_r(n):\n",
    "    if n == 0:\n",
    "        return str(0)\n",
    "    else:\n",
    "        return bin_r(n // 2) + str(n % 2)\n",
    "\n",
    "\n",
    "bin_r(5)"
   ]
  },
  {
   "cell_type": "markdown",
   "id": "a454afe1",
   "metadata": {},
   "source": [
    "## 11)"
   ]
  },
  {
   "cell_type": "code",
   "execution_count": 9,
   "id": "813e146a",
   "metadata": {},
   "outputs": [
    {
     "name": "stdout",
     "output_type": "stream",
     "text": [
      "True\n"
     ]
    }
   ],
   "source": [
    "def pal_r(s):\n",
    "    s = s.lower()\n",
    "    if s == '':\n",
    "        return True\n",
    "    if s[0] == s[-1]:\n",
    "        return pal_r(s[1:-1])\n",
    "    else:\n",
    "        return False\n",
    "\n",
    "    \n",
    "print(pal_r('cooc'))"
   ]
  },
  {
   "cell_type": "markdown",
   "id": "1ec28ad2",
   "metadata": {},
   "source": [
    "## 10)"
   ]
  },
  {
   "cell_type": "code",
   "execution_count": 10,
   "id": "3e15b273",
   "metadata": {},
   "outputs": [
    {
     "name": "stdout",
     "output_type": "stream",
     "text": [
      "8\n"
     ]
    }
   ],
   "source": [
    "def sum_digits(a):\n",
    "    if a < 10:\n",
    "        return a\n",
    "    else:\n",
    "        digit = a % 10\n",
    "        return digit + sum_digits(a // 10)\n",
    "\n",
    "\n",
    "print(sum_digits(2222))"
   ]
  },
  {
   "cell_type": "markdown",
   "id": "f42ac840",
   "metadata": {},
   "source": [
    "## 12)"
   ]
  },
  {
   "cell_type": "code",
   "execution_count": 11,
   "id": "5135d480",
   "metadata": {},
   "outputs": [],
   "source": [
    "pass"
   ]
  },
  {
   "cell_type": "markdown",
   "id": "22d78ebf",
   "metadata": {},
   "source": [
    "## 13)\n"
   ]
  },
  {
   "cell_type": "code",
   "execution_count": 12,
   "id": "d3e41713",
   "metadata": {},
   "outputs": [],
   "source": [
    "OP = ['(','[', '{']\n",
    "\n",
    "def bem_formada_r(s):\n",
    "    # Caso base\n",
    "    if s == \"\":\n",
    "        return True\n",
    "    \n",
    "    # Casos recursivos\n",
    "    else:\n",
    "        pass\n",
    "        # E agora?      \n",
    "\n",
    "# https://stackoverflow.com/questions/18007995/recursive-method-for-parentheses-balancing-python\n",
    "# https://stackoverflow.com/questions/33266073/printing-valid-combination-of-parentheses-in-python"
   ]
  },
  {
   "cell_type": "markdown",
   "id": "b9ca32a0",
   "metadata": {},
   "source": [
    "## 14)"
   ]
  },
  {
   "cell_type": "code",
   "execution_count": 13,
   "id": "fa929b1d",
   "metadata": {},
   "outputs": [
    {
     "name": "stdout",
     "output_type": "stream",
     "text": [
      "[1, 3, 3, [2, 2, {'teste': 1}]]\n"
     ]
    }
   ],
   "source": [
    "def deep_copy(l):\n",
    "    # Caso base\n",
    "    if type(l) not in [list, dict]:\n",
    "        return l\n",
    "    \n",
    "    # Caso recursivo 1\n",
    "    if type(l) == list:\n",
    "        c = []\n",
    "        for el in l:\n",
    "            c.append(deep_copy(el))\n",
    "        return c\n",
    "    \n",
    "    # Caso recursivo 2\n",
    "    if type(l) == dict:\n",
    "        c = {}\n",
    "        for el in l:\n",
    "            c[el] = deep_copy(l[el])\n",
    "        return c\n",
    "\n",
    "            \n",
    "print(deep_copy([1, 3, 3, [2, 2, {'teste': 1}]]))"
   ]
  }
 ],
 "metadata": {
  "kernelspec": {
   "display_name": "Python 3 (ipykernel)",
   "language": "python",
   "name": "python3"
  },
  "language_info": {
   "codemirror_mode": {
    "name": "ipython",
    "version": 3
   },
   "file_extension": ".py",
   "mimetype": "text/x-python",
   "name": "python",
   "nbconvert_exporter": "python",
   "pygments_lexer": "ipython3",
   "version": "3.10.5"
  }
 },
 "nbformat": 4,
 "nbformat_minor": 5
}
