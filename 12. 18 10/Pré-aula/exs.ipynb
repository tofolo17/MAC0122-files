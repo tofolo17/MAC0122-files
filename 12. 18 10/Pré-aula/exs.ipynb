{
 "cells": [
  {
   "cell_type": "markdown",
   "id": "989d169d",
   "metadata": {},
   "source": [
    "## 1)"
   ]
  },
  {
   "cell_type": "code",
   "execution_count": 1,
   "id": "c3414c7e",
   "metadata": {},
   "outputs": [
    {
     "name": "stdout",
     "output_type": "stream",
     "text": [
      "a: 1\n",
      "b: 0\n",
      "a: 1\n",
      "b: 1\n",
      "a: 2\n",
      "a: 1\n",
      "b: 0\n",
      "b: 1\n",
      "a: 3\n",
      "a: 1\n",
      "b: 0\n",
      "a: 1\n",
      "b: 1\n",
      "b: 2\n"
     ]
    },
    {
     "data": {
      "text/plain": [
       "(5, 7)"
      ]
     },
     "execution_count": 1,
     "metadata": {},
     "output_type": "execute_result"
    }
   ],
   "source": [
    "def fibonacciR(n, chamadas=0):\n",
    "    \"\"\"\n",
    "    O que posso reduzir?\n",
    "    \"\"\"\n",
    "    if n == 0:\n",
    "        return 0, chamadas\n",
    "    if n == 1:\n",
    "        return 1, chamadas\n",
    "    \n",
    "    a, chamadas = fibonacciR(n - 1, chamadas)\n",
    "    print(f'a: {a}')\n",
    "    \n",
    "    b, chamadas = fibonacciR(n - 2, chamadas + 1)\n",
    "    print(f'b: {b}')\n",
    "    \n",
    "    return a + b, chamadas\n",
    "\n",
    "\n",
    "fibonacciR(5)"
   ]
  },
  {
   "cell_type": "markdown",
   "id": "7c1490a8",
   "metadata": {},
   "source": [
    "## 2)"
   ]
  },
  {
   "cell_type": "code",
   "execution_count": 2,
   "id": "c568738a",
   "metadata": {},
   "outputs": [
    {
     "data": {
      "text/plain": [
       "(3, 3)"
      ]
     },
     "execution_count": 2,
     "metadata": {},
     "output_type": "execute_result"
    }
   ],
   "source": [
    "def fibonacciI(n):\n",
    "    if n == 0:\n",
    "        return 0, 0\n",
    "    if n == 1:\n",
    "        return 1, 0\n",
    "    somas = 0\n",
    "    anterior = 0\n",
    "    atual = 1\n",
    "    for i in range(1, n):\n",
    "        prox = atual + anterior\n",
    "        \n",
    "        somas += 1\n",
    "        \n",
    "        anterior = atual\n",
    "        atual = prox\n",
    "    return atual, somas\n",
    "\n",
    "\n",
    "fibonacciI(4)"
   ]
  },
  {
   "cell_type": "markdown",
   "id": "b4f8be32",
   "metadata": {},
   "source": [
    "## 3)"
   ]
  },
  {
   "cell_type": "code",
   "execution_count": 3,
   "id": "1a7f992f",
   "metadata": {},
   "outputs": [
    {
     "data": {
      "text/plain": [
       "1"
      ]
     },
     "execution_count": 3,
     "metadata": {},
     "output_type": "execute_result"
    }
   ],
   "source": [
    "def fibonacciRS(n, cur=1, prev=1):\n",
    "    if n == 0:\n",
    "        return 0\n",
    "    if n == 1 or n == 2:\n",
    "        return cur\n",
    "    return fibonacciRS(n - 1, cur + prev, cur)\n",
    "\n",
    "\n",
    "fibonacciRS(2, 1, 1)"
   ]
  },
  {
   "cell_type": "code",
   "execution_count": 4,
   "id": "d9330a3a",
   "metadata": {},
   "outputs": [
    {
     "name": "stdout",
     "output_type": "stream",
     "text": [
      "0.22243475914001465\n",
      "0.0\n"
     ]
    }
   ],
   "source": [
    " import time\n",
    "\n",
    "\n",
    "def fibonacciR(n):\n",
    "    if n == 0:\n",
    "        return 0\n",
    "    if n == 1:\n",
    "        return 1\n",
    "    return fibonacciR(n - 1) + fibonacciR(n - 2)\n",
    "\n",
    "\n",
    "def cronometro(f, n):\n",
    "    inicio = time.time()\n",
    "    r = f(n)\n",
    "    # print(r)\n",
    "    fim = time.time()\n",
    "    elapsed = fim - inicio\n",
    "    print(elapsed)\n",
    "\n",
    "\n",
    "for i in range(30, 31):  # 40, 51\n",
    "    cronometro(fibonacciR, i)\n",
    "    cronometro(fibonacciRS, i)\n",
    "    \n",
    "\n",
    "# Muita diferença!"
   ]
  },
  {
   "cell_type": "markdown",
   "id": "875de764",
   "metadata": {},
   "source": [
    "## 4)"
   ]
  },
  {
   "cell_type": "code",
   "execution_count": 5,
   "id": "29dfb278",
   "metadata": {},
   "outputs": [],
   "source": [
    "def fibonacciRM(n):\n",
    "    # Cria a lista que armazenará os valores de Fn.\n",
    "    cache = [-1] * (n + 1)\n",
    "    return fibonacciRCache(n, cache)\n",
    "\n",
    "\n",
    "def fibonacciRCache(n, cache, somas = 0):\n",
    "    # Se o valor já foi calculado, o retorna. Evita recursão desnecessária.\n",
    "    if cache[n] > -1:\n",
    "        return cache[n]\n",
    "    \n",
    "    # Armazena casos base\n",
    "    elif n < 2:\n",
    "        cache[n] = n\n",
    "        \n",
    "    # Se não foi calcada ainda...\n",
    "    else:\n",
    "        cache[n - 1] = fibonacciRCache(n - 1, cache)\n",
    "        cache[n] = cache[n - 2] + cache[n - 1]\n",
    "    return cache[n]\n",
    "\n",
    "\n",
    "# Para n = 4, duas somas são feitas.\n",
    "# Para n = 5, três somas são feitas.  --> Estima-se no máximo n - 2 somas."
   ]
  },
  {
   "cell_type": "markdown",
   "id": "f7b9e463",
   "metadata": {},
   "source": [
    "## 8)"
   ]
  },
  {
   "cell_type": "code",
   "execution_count": 11,
   "id": "5ba30187",
   "metadata": {},
   "outputs": [
    {
     "data": {
      "text/plain": [
       "6"
      ]
     },
     "execution_count": 11,
     "metadata": {},
     "output_type": "execute_result"
    }
   ],
   "source": [
    "def fibonacciR(n, nos=0):\n",
    "    if n == 0:\n",
    "        return 0, nos\n",
    "    if n == 1:\n",
    "        return 1, nos\n",
    "\n",
    "    a, nos = fibonacciR(n - 1, nos)\n",
    "    b, nos = fibonacciR(n - 2, nos + 1)\n",
    "\n",
    "    return a + b, nos\n",
    "\n",
    "\n",
    "def fibo_nos(n):\n",
    "    return fibonacciR(n)[1] - 1\n",
    "\n",
    "\n",
    "fibo_nos(5)"
   ]
  },
  {
   "cell_type": "markdown",
   "id": "f7ba6ba6",
   "metadata": {},
   "source": [
    "## 9)"
   ]
  },
  {
   "cell_type": "code",
   "execution_count": 18,
   "id": "12c68b25",
   "metadata": {},
   "outputs": [
    {
     "data": {
      "text/plain": [
       "8"
      ]
     },
     "execution_count": 18,
     "metadata": {},
     "output_type": "execute_result"
    }
   ],
   "source": [
    "# Folhas são as chamadas totais menos as somas!\n",
    "def fibonacciR(n, nos=0):\n",
    "    if n == 0:\n",
    "        return 0, nos, 1\n",
    "    if n == 1:\n",
    "        return 1, nos, 1\n",
    "\n",
    "    a, nos, c = fibonacciR(n - 1, nos)\n",
    "    b, nos, d = fibonacciR(n - 2, nos + 1)\n",
    "\n",
    "    return a + b, nos, c + d + 1\n",
    "\n",
    "\n",
    "def fibo_calls(n):\n",
    "    return fibonacciR(n)[2]\n",
    "\n",
    "\n",
    "def fibo_folhas(n):\n",
    "    return fibo_calls(n) - fibo_nos(n) - 1\n",
    "\n",
    "\n",
    "fibo_folhas(5)"
   ]
  }
 ],
 "metadata": {
  "kernelspec": {
   "display_name": "Python 3 (ipykernel)",
   "language": "python",
   "name": "python3"
  },
  "language_info": {
   "codemirror_mode": {
    "name": "ipython",
    "version": 3
   },
   "file_extension": ".py",
   "mimetype": "text/x-python",
   "name": "python",
   "nbconvert_exporter": "python",
   "pygments_lexer": "ipython3",
   "version": "3.9.4"
  }
 },
 "nbformat": 4,
 "nbformat_minor": 5
}
